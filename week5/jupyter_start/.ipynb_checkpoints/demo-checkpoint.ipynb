{
 "cells": [
  {
   "cell_type": "code",
   "execution_count": 5,
   "id": "9435e378",
   "metadata": {},
   "outputs": [
    {
     "name": "stdout",
     "output_type": "stream",
     "text": [
      "ATTTCCCCCC\n"
     ]
    }
   ],
   "source": [
    "Seq=\"ATTTCCCCCC\"\n",
    "print(Seq)"
   ]
  },
  {
   "cell_type": "markdown",
   "id": "0c236093",
   "metadata": {},
   "source": [
    "## here I am going to write a for loop\n",
    "- weather\n",
    "- time\n",
    "- space"
   ]
  },
  {
   "cell_type": "code",
   "execution_count": 10,
   "id": "2719d59f",
   "metadata": {},
   "outputs": [
    {
     "name": "stdout",
     "output_type": "stream",
     "text": [
      "1 base is:  A\n",
      "2 base is:  T\n",
      "3 base is:  T\n",
      "4 base is:  T\n",
      "5 base is:  C\n",
      "6 base is:  C\n",
      "7 base is:  C\n",
      "8 base is:  C\n",
      "9 base is:  C\n",
      "10 base is:  C\n"
     ]
    }
   ],
   "source": [
    "ctr=0\n",
    "for i in Seq:\n",
    "    ctr += 1\n",
    "    print(ctr, \"base is: \", i)"
   ]
  },
  {
   "cell_type": "code",
   "execution_count": 9,
   "id": "5011d846",
   "metadata": {},
   "outputs": [
    {
     "name": "stdout",
     "output_type": "stream",
     "text": [
      "demo.ipynb                  jupyter_getting_started.md\r\n",
      "\u001b[1m\u001b[36mimages\u001b[m\u001b[m/\r\n"
     ]
    }
   ],
   "source": [
    "%ls"
   ]
  },
  {
   "cell_type": "code",
   "execution_count": 9,
   "id": "2a99524b",
   "metadata": {},
   "outputs": [
    {
     "name": "stdout",
     "output_type": "stream",
     "text": [
      "/Users/thomasparchman/Documents\n"
     ]
    },
    {
     "data": {
      "text/plain": [
       "'/Users/thomasparchman/Documents'"
      ]
     },
     "execution_count": 9,
     "metadata": {},
     "output_type": "execute_result"
    }
   ],
   "source": [
    "%cd ../\n",
    "%pwd\n"
   ]
  },
  {
   "cell_type": "code",
   "execution_count": 5,
   "id": "9e634e7c",
   "metadata": {},
   "outputs": [
    {
     "name": "stdout",
     "output_type": "stream",
     "text": [
      "Untitled.ipynb             jupyter_getting_started.md\r\n",
      "\u001b[1m\u001b[36mimages\u001b[m\u001b[m\r\n"
     ]
    }
   ],
   "source": [
    "!cd ../../\n",
    "!ls\n"
   ]
  },
  {
   "cell_type": "code",
   "execution_count": null,
   "id": "e6256e23",
   "metadata": {},
   "outputs": [],
   "source": []
  }
 ],
 "metadata": {
  "kernelspec": {
   "display_name": "Python 3",
   "language": "python",
   "name": "python3"
  },
  "language_info": {
   "codemirror_mode": {
    "name": "ipython",
    "version": 3
   },
   "file_extension": ".py",
   "mimetype": "text/x-python",
   "name": "python",
   "nbconvert_exporter": "python",
   "pygments_lexer": "ipython3",
   "version": "3.8.8"
  }
 },
 "nbformat": 4,
 "nbformat_minor": 5
}
