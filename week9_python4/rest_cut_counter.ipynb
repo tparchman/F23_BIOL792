{
 "cells": [
  {
   "cell_type": "markdown",
   "id": "e84ac88b",
   "metadata": {},
   "source": [
    "### Jupyter notebook demo with code to for python 4 programming task 1\n",
    "\n",
    "This week we will work with DNA sequence data from several different species. These are coding DNA sequences, and happen to be from a bird (Manacus vitellinus; Manacus_vitellinus.gene.cds.fa.gz) and two pines (Pinus contorta; contorta_454.fa.gz, and Pinus taeada; Pta.seq.uniq.gz). You can pull these from the course website (you will need to gunzip them). The data sets are either from whole genome or whole transcriptome sequencing projects, and represent most of the protein coding sequence.\n",
    "\n",
    " \n",
    "Task 1: write a script that counts the number of restriction enzyme cut sites in the genome assemblies. We are going to look for three DNA sequence motifs that are represented by the exact DNA sequences:\n",
    "\n",
    "    EcoRI cut site: GAATTC\n",
    "    Mse1 cut site: TTAA\n",
    "    HindIII cut site: AAGCTT\n",
    "\n",
    "Print to screen or write to an outfile that contains a report with several features of this data set:\n",
    "\n",
    " The total number of sequences in each file. (hint: Ctr += 1)\n",
    "\n",
    " The number of EcoRI, MseI, and HindIII restriction enzyme cut sites. This will involve counting the number of exact matches for the cut site sequences in each line, and summing that over all of the lines. The primer for this week and one of the slides from class has an example of how to keep count of multiple regular expression matches in a scalar, and another slide has an example of how to add these counts onto a total with each iteration through a for loop.\n",
    " \n",
    " ### Code that will do this below\n"
   ]
  },
  {
   "cell_type": "markdown",
   "id": "599771a0",
   "metadata": {},
   "source": [
    "### importing some modules and initializing variables"
   ]
  },
  {
   "cell_type": "code",
   "execution_count": 1,
   "id": "df5c4e57",
   "metadata": {},
   "outputs": [],
   "source": [
    "import sys\n",
    "import re\n",
    "\n",
    "SeqNo = 0\n",
    "TEco = 0\n",
    "TMse = 0\n",
    "THin = 0\n"
   ]
  },
  {
   "cell_type": "markdown",
   "id": "312858b7",
   "metadata": {},
   "source": [
    "### Opening filehandle to input data"
   ]
  },
  {
   "cell_type": "code",
   "execution_count": 4,
   "id": "86dd6a35",
   "metadata": {},
   "outputs": [
    {
     "name": "stdout",
     "output_type": "stream",
     "text": [
      "Manacaus transcriptome filehandle created\n"
     ]
    }
   ],
   "source": [
    "IN = open(\"Manacus_vitellinus.gene.cds.fa\", 'r')\n",
    "print(\"Manacaus transcriptome filehandle created\")"
   ]
  },
  {
   "cell_type": "markdown",
   "id": "d8937bc1",
   "metadata": {},
   "source": [
    "### Processing one line at a time in a `for` loop; using `re.findall` to store matches in a list for each line.\n",
    "\n",
    "- Removing line endings with `.strip(\"\\n\")`\n",
    "- Using `re.search` to check if line starts with `>`, incrementing for each line that has that match in order to count the number of sequence IDs in the file\n",
    "- Then, using `re.search` to check if lines that contain sequence data and dont start with `>`\n",
    "- Using `re.findall` to store matches in a list for each restrction site sequence for each line. As some of these sequences could be long, there could be multiple matches to each motif, and there could be matches to multiple motifs. Three statements like this, one for each restriction enzyme.\n",
    "- Then, incrementing to keep a running tally of the total number of sites. TEco, for example, will count the total number of those sites matched for the whole file, while Eco just stores the count for each line. Eco is created anew each time through the loop."
   ]
  },
  {
   "cell_type": "code",
   "execution_count": 5,
   "id": "631af196",
   "metadata": {},
   "outputs": [],
   "source": [
    "for Line in IN:\n",
    "\tLine = Line.strip(\"\\n\")\n",
    "\tif re.search(\"^>\", Line):\n",
    "\t\tSeqNo += 1\n",
    "\telif re.search(\"[ATCGN]\", Line):\n",
    "\t\tEco = len(re.findall(\"GAATTC\", Line))\n",
    "\t\tMse = len(re.findall(\"TTAA\", Line))\n",
    "\t\tHin = len(re.findall(\"AAGCTT\", Line))\n",
    "\t\tTEco += Eco\n",
    "\t\tTMse += Mse\n",
    "\t\tTHin += Hin"
   ]
  },
  {
   "cell_type": "markdown",
   "id": "b1c7884e",
   "metadata": {},
   "source": [
    "### Printing a summary of the number of matches for each motif"
   ]
  },
  {
   "cell_type": "code",
   "execution_count": 6,
   "id": "027ff565",
   "metadata": {},
   "outputs": [
    {
     "name": "stdout",
     "output_type": "stream",
     "text": [
      "Total Number of Sequences: 16103, EcoRI cut sites: 6116, MseI cut sites: 51041, HindIII cut sites: 6814\n"
     ]
    }
   ],
   "source": [
    "print(\"Total Number of Sequences: %d, EcoRI cut sites: %d, MseI cut sites: %d, HindIII cut sites: %d\" % (SeqNo, TEco, TMse, THin))\n"
   ]
  },
  {
   "cell_type": "markdown",
   "id": "ec88b3f6",
   "metadata": {},
   "source": [
    "### Closing file handles"
   ]
  },
  {
   "cell_type": "code",
   "execution_count": 8,
   "id": "91b0edcf",
   "metadata": {},
   "outputs": [
    {
     "name": "stdout",
     "output_type": "stream",
     "text": [
      "All should be done and in order\n"
     ]
    }
   ],
   "source": [
    "IN.close()\n",
    "print(\"All should be done and in order\")"
   ]
  }
 ],
 "metadata": {
  "kernelspec": {
   "display_name": "Python 3",
   "language": "python",
   "name": "python3"
  },
  "language_info": {
   "codemirror_mode": {
    "name": "ipython",
    "version": 3
   },
   "file_extension": ".py",
   "mimetype": "text/x-python",
   "name": "python",
   "nbconvert_exporter": "python",
   "pygments_lexer": "ipython3",
   "version": "3.8.8"
  }
 },
 "nbformat": 4,
 "nbformat_minor": 5
}
