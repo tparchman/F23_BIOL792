{
 "cells": [
  {
   "cell_type": "code",
   "execution_count": null,
   "id": "460f1c93",
   "metadata": {},
   "outputs": [],
   "source": []
  },
  {
   "cell_type": "code",
   "execution_count": null,
   "id": "5e30defa",
   "metadata": {},
   "outputs": [],
   "source": []
  },
  {
   "cell_type": "code",
   "execution_count": null,
   "id": "78c7ff6f",
   "metadata": {},
   "outputs": [],
   "source": []
  },
  {
   "cell_type": "code",
   "execution_count": null,
   "id": "ed15a5f9",
   "metadata": {},
   "outputs": [],
   "source": []
  },
  {
   "cell_type": "markdown",
   "id": "b963ea73",
   "metadata": {},
   "source": [
    "### Using `glob` to process command line arguments in jupyter notebooks.\n",
    "- Code below will store all filenames in directory ending in `.txt.txt` into `filelist`\n",
    "- The files you are attempting to access MUST reside in the same directory as this jupyter notebook.\n",
    "- for loop below is just printing elements of the list to confirm this is working as expected.\n",
    "- After storing all file names in `filelist`, you can use a `for` loop to open file handles to each file, one at a time. \n",
    "- `codecs.open` is used below, remember, to deal with some of the nasty hidden characters in the files provided for this exercise."
   ]
  },
  {
   "cell_type": "code",
   "execution_count": 4,
   "id": "6dd02cf8",
   "metadata": {},
   "outputs": [
    {
     "name": "stdout",
     "output_type": "stream",
     "text": [
      "test1.txt.txt\n",
      "test2.txt.txt\n"
     ]
    }
   ],
   "source": [
    "import codecs\n",
    "import glob\n",
    "\n",
    "filelist = glob.glob('*.txt.txt')\n",
    "for filename in filelist:\n",
    "    print(filename)\n",
    "    IN = codecs.open(filename, 'r', encoding='utf-8', errors='ignore')\n",
    "    for line in IN:\n",
    "        "
   ]
  },
  {
   "cell_type": "code",
   "execution_count": null,
   "id": "3c685867",
   "metadata": {},
   "outputs": [],
   "source": []
  }
 ],
 "metadata": {
  "kernelspec": {
   "display_name": "Python 3 (ipykernel)",
   "language": "python",
   "name": "python3"
  },
  "language_info": {
   "codemirror_mode": {
    "name": "ipython",
    "version": 3
   },
   "file_extension": ".py",
   "mimetype": "text/x-python",
   "name": "python",
   "nbconvert_exporter": "python",
   "pygments_lexer": "ipython3",
   "version": "3.11.5"
  }
 },
 "nbformat": 4,
 "nbformat_minor": 5
}
